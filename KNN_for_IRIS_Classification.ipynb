{
  "nbformat": 4,
  "nbformat_minor": 0,
  "metadata": {
    "colab": {
      "name": "KNN for IRIS Classification.ipynb",
      "provenance": [],
      "collapsed_sections": []
    },
    "kernelspec": {
      "name": "python3",
      "display_name": "Python 3"
    }
  },
  "cells": [
    {
      "cell_type": "code",
      "metadata": {
        "id": "trxGgX7t4u-Z"
      },
      "source": [
        "#importing the libraries\n",
        "import numpy as np\n",
        "import matplotlib.pyplot as plt\n",
        "import pandas as pd\n",
        "from sklearn.datasets import load_iris\n",
        "from sklearn.model_selection import train_test_split\n",
        "from sklearn.model_selection import KFold"
      ],
      "execution_count": 4,
      "outputs": []
    },
    {
      "cell_type": "code",
      "metadata": {
        "id": "IwEJwldr_pqT"
      },
      "source": [
        "#import and split data\n",
        "data=load_iris()\n",
        "x=data.data\n",
        "y=data.target\n",
        "x_train,x_test,y_train,y_test=train_test_split(x,y,test_size=0.3)\n",
        "\n"
      ],
      "execution_count": 5,
      "outputs": []
    },
    {
      "cell_type": "code",
      "metadata": {
        "id": "OsaHumVZAaSa",
        "colab": {
          "base_uri": "https://localhost:8080/"
        },
        "outputId": "380d7fa2-e216-4d08-b9b8-208a1d4ee6bd"
      },
      "source": [
        "#training & preprocessing\n",
        "from sklearn.neighbors import KNeighborsClassifier\n",
        "clf = KNeighborsClassifier(n_neighbors=5)\n",
        "clf.fit(x_train, y_train)\n",
        "out=clf.predict(x_test)\n",
        "print(out) "
      ],
      "execution_count": 6,
      "outputs": [
        {
          "output_type": "stream",
          "text": [
            "[2 2 0 2 0 1 1 2 1 1 1 1 2 0 1 0 0 0 2 2 0 2 0 0 1 2 0 2 1 2 2 0 0 1 0 2 0\n",
            " 1 2 0 1 1 1 0 1]\n"
          ],
          "name": "stdout"
        }
      ]
    },
    {
      "cell_type": "code",
      "metadata": {
        "id": "TlrEsE_22HrU",
        "colab": {
          "base_uri": "https://localhost:8080/"
        },
        "outputId": "89e92e35-03aa-4c87-bfb5-caf310839f35"
      },
      "source": [
        "print(x_train)"
      ],
      "execution_count": 7,
      "outputs": [
        {
          "output_type": "stream",
          "text": [
            "[[5.4 3.  4.5 1.5]\n",
            " [6.  3.  4.8 1.8]\n",
            " [5.6 2.8 4.9 2. ]\n",
            " [7.  3.2 4.7 1.4]\n",
            " [5.8 2.7 4.1 1. ]\n",
            " [7.9 3.8 6.4 2. ]\n",
            " [6.7 3.3 5.7 2.5]\n",
            " [6.9 3.1 4.9 1.5]\n",
            " [6.3 2.8 5.1 1.5]\n",
            " [5.  3.5 1.6 0.6]\n",
            " [5.9 3.  4.2 1.5]\n",
            " [4.9 3.  1.4 0.2]\n",
            " [5.1 3.4 1.5 0.2]\n",
            " [6.5 3.  5.8 2.2]\n",
            " [6.5 2.8 4.6 1.5]\n",
            " [5.7 4.4 1.5 0.4]\n",
            " [4.4 3.  1.3 0.2]\n",
            " [4.6 3.1 1.5 0.2]\n",
            " [7.2 3.6 6.1 2.5]\n",
            " [5.6 3.  4.1 1.3]\n",
            " [6.2 2.2 4.5 1.5]\n",
            " [6.1 3.  4.9 1.8]\n",
            " [6.7 3.1 4.7 1.5]\n",
            " [5.5 2.4 3.8 1.1]\n",
            " [6.5 3.  5.2 2. ]\n",
            " [7.7 2.6 6.9 2.3]\n",
            " [6.1 2.8 4.7 1.2]\n",
            " [4.7 3.2 1.6 0.2]\n",
            " [5.1 3.3 1.7 0.5]\n",
            " [4.8 3.4 1.6 0.2]\n",
            " [6.  2.7 5.1 1.6]\n",
            " [7.1 3.  5.9 2.1]\n",
            " [6.9 3.1 5.4 2.1]\n",
            " [5.5 2.3 4.  1.3]\n",
            " [5.2 4.1 1.5 0.1]\n",
            " [6.1 2.6 5.6 1.4]\n",
            " [6.7 3.  5.  1.7]\n",
            " [6.7 2.5 5.8 1.8]\n",
            " [6.5 3.  5.5 1.8]\n",
            " [5.1 3.5 1.4 0.2]\n",
            " [7.7 3.8 6.7 2.2]\n",
            " [6.7 3.1 4.4 1.4]\n",
            " [6.4 3.2 4.5 1.5]\n",
            " [5.8 2.7 5.1 1.9]\n",
            " [5.4 3.9 1.3 0.4]\n",
            " [5.1 3.7 1.5 0.4]\n",
            " [6.8 2.8 4.8 1.4]\n",
            " [5.8 2.6 4.  1.2]\n",
            " [4.9 3.6 1.4 0.1]\n",
            " [4.6 3.4 1.4 0.3]\n",
            " [5.  3.4 1.6 0.4]\n",
            " [5.4 3.4 1.7 0.2]\n",
            " [6.4 3.2 5.3 2.3]\n",
            " [5.1 2.5 3.  1.1]\n",
            " [5.1 3.8 1.5 0.3]\n",
            " [5.9 3.  5.1 1.8]\n",
            " [5.1 3.8 1.6 0.2]\n",
            " [5.6 2.7 4.2 1.3]\n",
            " [5.2 3.5 1.5 0.2]\n",
            " [5.2 2.7 3.9 1.4]\n",
            " [6.3 3.3 4.7 1.6]\n",
            " [7.6 3.  6.6 2.1]\n",
            " [4.5 2.3 1.3 0.3]\n",
            " [5.8 2.8 5.1 2.4]\n",
            " [5.5 2.4 3.7 1. ]\n",
            " [5.3 3.7 1.5 0.2]\n",
            " [5.  3.  1.6 0.2]\n",
            " [5.5 4.2 1.4 0.2]\n",
            " [6.1 2.9 4.7 1.4]\n",
            " [5.8 2.7 5.1 1.9]\n",
            " [4.9 2.5 4.5 1.7]\n",
            " [5.  3.4 1.5 0.2]\n",
            " [5.5 2.6 4.4 1.2]\n",
            " [5.  2.3 3.3 1. ]\n",
            " [5.  2.  3.5 1. ]\n",
            " [5.  3.6 1.4 0.2]\n",
            " [7.4 2.8 6.1 1.9]\n",
            " [6.2 2.8 4.8 1.8]\n",
            " [4.6 3.2 1.4 0.2]\n",
            " [6.4 2.7 5.3 1.9]\n",
            " [5.7 2.5 5.  2. ]\n",
            " [4.9 3.1 1.5 0.1]\n",
            " [6.3 2.5 5.  1.9]\n",
            " [6.8 3.  5.5 2.1]\n",
            " [6.3 2.7 4.9 1.8]\n",
            " [5.1 3.5 1.4 0.3]\n",
            " [5.6 3.  4.5 1.5]\n",
            " [5.7 3.  4.2 1.2]\n",
            " [4.8 3.  1.4 0.1]\n",
            " [5.  3.5 1.3 0.3]\n",
            " [5.  3.2 1.2 0.2]\n",
            " [6.6 2.9 4.6 1.3]\n",
            " [6.9 3.2 5.7 2.3]\n",
            " [6.3 2.3 4.4 1.3]\n",
            " [6.  2.9 4.5 1.5]\n",
            " [6.3 2.9 5.6 1.8]\n",
            " [6.2 3.4 5.4 2.3]\n",
            " [5.6 2.9 3.6 1.3]\n",
            " [6.5 3.2 5.1 2. ]\n",
            " [5.1 3.8 1.9 0.4]\n",
            " [6.  2.2 5.  1.5]\n",
            " [6.8 3.2 5.9 2.3]\n",
            " [4.4 2.9 1.4 0.2]\n",
            " [7.3 2.9 6.3 1.8]\n",
            " [6.3 3.4 5.6 2.4]]\n"
          ],
          "name": "stdout"
        }
      ]
    },
    {
      "cell_type": "code",
      "metadata": {
        "id": "lTWsYSsG2Omc",
        "colab": {
          "base_uri": "https://localhost:8080/"
        },
        "outputId": "52aaae93-94a2-4e1e-90a4-eb3996e6c252"
      },
      "source": [
        "print(x_test)"
      ],
      "execution_count": 8,
      "outputs": [
        {
          "output_type": "stream",
          "text": [
            "[[6.7 3.3 5.7 2.1]\n",
            " [6.4 2.8 5.6 2.1]\n",
            " [5.2 3.4 1.4 0.2]\n",
            " [7.2 3.  5.8 1.6]\n",
            " [5.5 3.5 1.3 0.2]\n",
            " [5.7 2.9 4.2 1.3]\n",
            " [6.6 3.  4.4 1.4]\n",
            " [5.9 3.2 4.8 1.8]\n",
            " [6.  2.2 4.  1. ]\n",
            " [5.7 2.8 4.5 1.3]\n",
            " [6.4 2.9 4.3 1.3]\n",
            " [5.6 2.5 3.9 1.1]\n",
            " [7.7 2.8 6.7 2. ]\n",
            " [5.4 3.9 1.7 0.4]\n",
            " [5.5 2.5 4.  1.3]\n",
            " [4.6 3.6 1.  0.2]\n",
            " [4.4 3.2 1.3 0.2]\n",
            " [4.8 3.1 1.6 0.2]\n",
            " [6.3 3.3 6.  2.5]\n",
            " [6.9 3.1 5.1 2.3]\n",
            " [5.  3.3 1.4 0.2]\n",
            " [6.7 3.1 5.6 2.4]\n",
            " [5.8 4.  1.2 0.2]\n",
            " [4.9 3.1 1.5 0.2]\n",
            " [6.1 3.  4.6 1.4]\n",
            " [6.3 2.5 4.9 1.5]\n",
            " [5.4 3.7 1.5 0.2]\n",
            " [7.2 3.2 6.  1.8]\n",
            " [6.2 2.9 4.3 1.3]\n",
            " [6.4 2.8 5.6 2.2]\n",
            " [7.7 3.  6.1 2.3]\n",
            " [4.7 3.2 1.3 0.2]\n",
            " [5.7 3.8 1.7 0.3]\n",
            " [5.8 2.7 3.9 1.2]\n",
            " [4.8 3.  1.4 0.3]\n",
            " [6.7 3.  5.2 2.3]\n",
            " [5.4 3.4 1.5 0.4]\n",
            " [5.7 2.8 4.1 1.3]\n",
            " [6.4 3.1 5.5 1.8]\n",
            " [4.8 3.4 1.9 0.2]\n",
            " [6.1 2.8 4.  1.3]\n",
            " [5.7 2.6 3.5 1. ]\n",
            " [6.  3.4 4.5 1.6]\n",
            " [4.3 3.  1.1 0.1]\n",
            " [4.9 2.4 3.3 1. ]]\n"
          ],
          "name": "stdout"
        }
      ]
    },
    {
      "cell_type": "code",
      "metadata": {
        "id": "NtU977EF2Tfs",
        "colab": {
          "base_uri": "https://localhost:8080/"
        },
        "outputId": "5f954063-0b2b-4d17-b6ab-7bf6a9e03d04"
      },
      "source": [
        "print(y_train)"
      ],
      "execution_count": 9,
      "outputs": [
        {
          "output_type": "stream",
          "text": [
            "[1 2 2 1 1 2 2 1 2 0 1 0 0 2 1 0 0 0 2 1 1 2 1 1 2 2 1 0 0 0 1 2 2 1 0 2 1\n",
            " 2 2 0 2 1 1 2 0 0 1 1 0 0 0 0 2 1 0 2 0 1 0 1 1 2 0 2 1 0 0 0 1 2 2 0 1 1\n",
            " 1 0 2 2 0 2 2 0 2 2 2 0 1 1 0 0 0 1 2 1 1 2 2 1 2 0 2 2 0 2 2]\n"
          ],
          "name": "stdout"
        }
      ]
    },
    {
      "cell_type": "code",
      "metadata": {
        "id": "CrjQrJ6X2ZSo",
        "colab": {
          "base_uri": "https://localhost:8080/"
        },
        "outputId": "28b29fd3-22f1-4a97-9ba9-d4fb95a7566b"
      },
      "source": [
        "print(y_test)"
      ],
      "execution_count": 10,
      "outputs": [
        {
          "output_type": "stream",
          "text": [
            "[2 2 0 2 0 1 1 1 1 1 1 1 2 0 1 0 0 0 2 2 0 2 0 0 1 1 0 2 1 2 2 0 0 1 0 2 0\n",
            " 1 2 0 1 1 1 0 1]\n"
          ],
          "name": "stdout"
        }
      ]
    },
    {
      "cell_type": "code",
      "metadata": {
        "id": "yqTZEZnkBasf",
        "colab": {
          "base_uri": "https://localhost:8080/"
        },
        "outputId": "31b91bc0-6690-4097-bc4d-4dc5dee85c61"
      },
      "source": [
        "#evaluting the algorithm\n",
        "from sklearn.metrics import classification_report,confusion_matrix\n",
        "print(confusion_matrix(y_test,out))\n"
      ],
      "execution_count": 11,
      "outputs": [
        {
          "output_type": "stream",
          "text": [
            "[[16  0  0]\n",
            " [ 0 15  2]\n",
            " [ 0  0 12]]\n"
          ],
          "name": "stdout"
        }
      ]
    },
    {
      "cell_type": "code",
      "metadata": {
        "id": "eKiavaTi89m4",
        "colab": {
          "base_uri": "https://localhost:8080/"
        },
        "outputId": "c1a6d223-ef8c-4582-b530-578d3c354c5e"
      },
      "source": [
        "from sklearn.metrics import classification_report,confusion_matrix\n",
        "print(classification_report(y_test,out))\n",
        "confusion_matrix(y_test,out)"
      ],
      "execution_count": 12,
      "outputs": [
        {
          "output_type": "stream",
          "text": [
            "              precision    recall  f1-score   support\n",
            "\n",
            "           0       1.00      1.00      1.00        16\n",
            "           1       1.00      0.88      0.94        17\n",
            "           2       0.86      1.00      0.92        12\n",
            "\n",
            "    accuracy                           0.96        45\n",
            "   macro avg       0.95      0.96      0.95        45\n",
            "weighted avg       0.96      0.96      0.96        45\n",
            "\n"
          ],
          "name": "stdout"
        },
        {
          "output_type": "execute_result",
          "data": {
            "text/plain": [
              "array([[16,  0,  0],\n",
              "       [ 0, 15,  2],\n",
              "       [ 0,  0, 12]])"
            ]
          },
          "metadata": {
            "tags": []
          },
          "execution_count": 12
        }
      ]
    },
    {
      "cell_type": "code",
      "metadata": {
        "id": "TpuIajhtjDrR",
        "colab": {
          "base_uri": "https://localhost:8080/"
        },
        "outputId": "a2739a70-ef0d-49d9-b93f-3eb0e2445635"
      },
      "source": [
        "from sklearn.datasets import make_classification\n",
        "from sklearn.model_selection import KFold\n",
        "from sklearn.model_selection import cross_val_score\n",
        "clf=KNeighborsClassifier(n_neighbors=5)\n",
        "cv=KFold(n_splits=12)\n",
        "scores=cross_val_score(clf,x,y,cv=cv)\n",
        "print(scores)"
      ],
      "execution_count": 13,
      "outputs": [
        {
          "output_type": "stream",
          "text": [
            "[1.         1.         1.         1.         1.         0.69230769\n",
            " 0.91666667 1.         0.91666667 0.91666667 0.91666667 1.        ]\n"
          ],
          "name": "stdout"
        }
      ]
    },
    {
      "cell_type": "code",
      "metadata": {
        "id": "VfSidvQUjH0g",
        "colab": {
          "base_uri": "https://localhost:8080/"
        },
        "outputId": "133c57a7-f22c-4584-a5d5-e70953547dcc"
      },
      "source": [
        "np.mean(scores)"
      ],
      "execution_count": 14,
      "outputs": [
        {
          "output_type": "execute_result",
          "data": {
            "text/plain": [
              "0.9465811965811964"
            ]
          },
          "metadata": {
            "tags": []
          },
          "execution_count": 14
        }
      ]
    }
  ]
}